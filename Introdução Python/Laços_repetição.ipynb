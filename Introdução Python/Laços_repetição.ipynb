{
 "cells": [
  {
   "cell_type": "code",
   "execution_count": 1,
   "metadata": {},
   "outputs": [
    {
     "name": "stdout",
     "output_type": "stream",
     "text": [
      "1\n",
      "2\n",
      "3\n",
      "4\n",
      "5\n"
     ]
    }
   ],
   "source": [
    "numeros = [1, 2, 3, 4, 5]\n",
    "\n",
    "for numero in numeros:\n",
    "    print(numero)\n"
   ]
  },
  {
   "cell_type": "code",
   "execution_count": 2,
   "metadata": {},
   "outputs": [
    {
     "name": "stdout",
     "output_type": "stream",
     "text": [
      "1\n",
      "2\n",
      "3\n",
      "4\n",
      "5\n"
     ]
    }
   ],
   "source": [
    "contador = 1\n",
    "\n",
    "while contador <= 5:\n",
    "    print(contador)\n",
    "    contador += 1\n"
   ]
  },
  {
   "cell_type": "code",
   "execution_count": 4,
   "metadata": {},
   "outputs": [
    {
     "name": "stdout",
     "output_type": "stream",
     "text": [
      "Escolha duas cores primárias para misturar ou '3' para sair.\n",
      "0: vermelho, 1: azul, 2: amarelo, 3: sair\n",
      "A mistura de azul e amarelo resulta em verde.\n",
      "\n",
      "Escolha duas cores primárias para misturar ou '3' para sair.\n",
      "0: vermelho, 1: azul, 2: amarelo, 3: sair\n",
      "A mistura de vermelho e amarelo resulta em laranja.\n",
      "\n",
      "Escolha duas cores primárias para misturar ou '3' para sair.\n",
      "0: vermelho, 1: azul, 2: amarelo, 3: sair\n"
     ]
    }
   ],
   "source": [
    "def misturar_cores(cor1, cor2):\n",
    "    match (cor1, cor2):\n",
    "        case (0, 1) | (1, 0):\n",
    "            return \"roxo\"\n",
    "        case (0, 2) | (2, 0):\n",
    "            return \"laranja\"\n",
    "        case (1, 2) | (2, 1):\n",
    "            return \"verde\"\n",
    "        case _:\n",
    "            return \"Mistura inválida\"\n",
    "\n",
    "def obter_cor_do_usuario():\n",
    "    cores = [\"vermelho\", \"azul\", \"amarelo\", \"sair\"]\n",
    "\n",
    "    while True:\n",
    "        print(\"Escolha duas cores primárias para misturar ou '3' para sair.\")\n",
    "        print(\"0: vermelho, 1: azul, 2: amarelo, 3: sair\")\n",
    "        \n",
    "        cor1 = int(input(\"Digite o número da primeira cor: \").strip())\n",
    "        if cor1 == 3:\n",
    "            break\n",
    "        \n",
    "        cor2 = int(input(\"Digite o número da segunda cor: \").strip())\n",
    "        if cor2 == 3:\n",
    "            break\n",
    "        \n",
    "        resultado = misturar_cores(cor1, cor2)\n",
    "        print(f\"A mistura de {cores[cor1]} e {cores[cor2]} resulta em {resultado}.\")\n",
    "        print()\n",
    "\n",
    "# Chamar a função para iniciar o processo\n",
    "obter_cor_do_usuario()\n"
   ]
  }
 ],
 "metadata": {
  "kernelspec": {
   "display_name": "Python 3",
   "language": "python",
   "name": "python3"
  },
  "language_info": {
   "codemirror_mode": {
    "name": "ipython",
    "version": 3
   },
   "file_extension": ".py",
   "mimetype": "text/x-python",
   "name": "python",
   "nbconvert_exporter": "python",
   "pygments_lexer": "ipython3",
   "version": "3.12.4"
  }
 },
 "nbformat": 4,
 "nbformat_minor": 2
}
