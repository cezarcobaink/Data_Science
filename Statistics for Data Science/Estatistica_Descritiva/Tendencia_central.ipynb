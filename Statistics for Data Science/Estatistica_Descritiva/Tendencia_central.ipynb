{
 "cells": [
  {
   "cell_type": "code",
   "execution_count": 4,
   "metadata": {},
   "outputs": [],
   "source": [
    "#Tendencia central = pontos centrais de uma amostra\n",
    "#média, mediana e a moda\n",
    "# Teste com dados abertos: https://www.kaggle.com/datasets/vittoriogiatti/bigmacprice\n",
    "import pandas as pd"
   ]
  },
  {
   "cell_type": "code",
   "execution_count": 5,
   "metadata": {},
   "outputs": [],
   "source": [
    "df = pd.read_csv('BigmacPrice.csv')\n"
   ]
  },
  {
   "cell_type": "code",
   "execution_count": 4,
   "metadata": {},
   "outputs": [
    {
     "data": {
      "text/html": [
       "<div>\n",
       "<style scoped>\n",
       "    .dataframe tbody tr th:only-of-type {\n",
       "        vertical-align: middle;\n",
       "    }\n",
       "\n",
       "    .dataframe tbody tr th {\n",
       "        vertical-align: top;\n",
       "    }\n",
       "\n",
       "    .dataframe thead th {\n",
       "        text-align: right;\n",
       "    }\n",
       "</style>\n",
       "<table border=\"1\" class=\"dataframe\">\n",
       "  <thead>\n",
       "    <tr style=\"text-align: right;\">\n",
       "      <th></th>\n",
       "      <th>date</th>\n",
       "      <th>currency_code</th>\n",
       "      <th>name</th>\n",
       "      <th>local_price</th>\n",
       "      <th>dollar_ex</th>\n",
       "      <th>dollar_price</th>\n",
       "    </tr>\n",
       "  </thead>\n",
       "  <tbody>\n",
       "    <tr>\n",
       "      <th>0</th>\n",
       "      <td>2000-04-01</td>\n",
       "      <td>ARS</td>\n",
       "      <td>Argentina</td>\n",
       "      <td>2.50</td>\n",
       "      <td>1</td>\n",
       "      <td>2.50</td>\n",
       "    </tr>\n",
       "    <tr>\n",
       "      <th>1</th>\n",
       "      <td>2000-04-01</td>\n",
       "      <td>AUD</td>\n",
       "      <td>Australia</td>\n",
       "      <td>2.59</td>\n",
       "      <td>1</td>\n",
       "      <td>2.59</td>\n",
       "    </tr>\n",
       "    <tr>\n",
       "      <th>2</th>\n",
       "      <td>2000-04-01</td>\n",
       "      <td>BRL</td>\n",
       "      <td>Brazil</td>\n",
       "      <td>2.95</td>\n",
       "      <td>1</td>\n",
       "      <td>2.95</td>\n",
       "    </tr>\n",
       "    <tr>\n",
       "      <th>3</th>\n",
       "      <td>2000-04-01</td>\n",
       "      <td>GBP</td>\n",
       "      <td>Britain</td>\n",
       "      <td>1.90</td>\n",
       "      <td>1</td>\n",
       "      <td>1.90</td>\n",
       "    </tr>\n",
       "    <tr>\n",
       "      <th>4</th>\n",
       "      <td>2000-04-01</td>\n",
       "      <td>CAD</td>\n",
       "      <td>Canada</td>\n",
       "      <td>2.85</td>\n",
       "      <td>1</td>\n",
       "      <td>2.85</td>\n",
       "    </tr>\n",
       "  </tbody>\n",
       "</table>\n",
       "</div>"
      ],
      "text/plain": [
       "         date currency_code       name  local_price  dollar_ex  dollar_price\n",
       "0  2000-04-01           ARS  Argentina         2.50          1          2.50\n",
       "1  2000-04-01           AUD  Australia         2.59          1          2.59\n",
       "2  2000-04-01           BRL     Brazil         2.95          1          2.95\n",
       "3  2000-04-01           GBP    Britain         1.90          1          1.90\n",
       "4  2000-04-01           CAD     Canada         2.85          1          2.85"
      ]
     },
     "execution_count": 4,
     "metadata": {},
     "output_type": "execute_result"
    }
   ],
   "source": [
    "df.head()"
   ]
  },
  {
   "cell_type": "code",
   "execution_count": 5,
   "metadata": {},
   "outputs": [
    {
     "data": {
      "text/plain": [
       "date              object\n",
       "currency_code     object\n",
       "name              object\n",
       "local_price      float64\n",
       "dollar_ex          int64\n",
       "dollar_price     float64\n",
       "dtype: object"
      ]
     },
     "execution_count": 5,
     "metadata": {},
     "output_type": "execute_result"
    }
   ],
   "source": [
    "#Descrição das colunas\n",
    "#date- Data do registro\n",
    "#currency_code - Código ISO 4217 internacional da moeda do país\n",
    "#name - Nome do país\n",
    "#local_price - Preço do Big Mac na moeda local\n",
    "#dollar_ex - Taxa de Conversão do dólar americano para a moeda local\n",
    "#local_price - Preço do Big Mac em dólares americanos\n",
    "df.dtypes"
   ]
  },
  {
   "cell_type": "code",
   "execution_count": 14,
   "metadata": {},
   "outputs": [],
   "source": [
    "#date não está no formata datetime, primiro resolvemos isso!\n",
    "df['date'] = pd.to_datetime(df['date'], errors='coerce')"
   ]
  },
  {
   "cell_type": "code",
   "execution_count": 15,
   "metadata": {},
   "outputs": [
    {
     "data": {
      "text/plain": [
       "date             datetime64[ns]\n",
       "currency_code            object\n",
       "name                     object\n",
       "local_price             float64\n",
       "dollar_ex                 int64\n",
       "dollar_price            float64\n",
       "dtype: object"
      ]
     },
     "execution_count": 15,
     "metadata": {},
     "output_type": "execute_result"
    }
   ],
   "source": [
    "df.dtypes"
   ]
  },
  {
   "cell_type": "code",
   "execution_count": 20,
   "metadata": {},
   "outputs": [],
   "source": [
    "# Queremos os dados somente de 01 julho/2022\n",
    "df_filtered_dia = df[df[\"date\"] == '2022-07-01']"
   ]
  },
  {
   "cell_type": "code",
   "execution_count": 23,
   "metadata": {},
   "outputs": [
    {
     "data": {
      "text/html": [
       "<div>\n",
       "<style scoped>\n",
       "    .dataframe tbody tr th:only-of-type {\n",
       "        vertical-align: middle;\n",
       "    }\n",
       "\n",
       "    .dataframe tbody tr th {\n",
       "        vertical-align: top;\n",
       "    }\n",
       "\n",
       "    .dataframe thead th {\n",
       "        text-align: right;\n",
       "    }\n",
       "</style>\n",
       "<table border=\"1\" class=\"dataframe\">\n",
       "  <thead>\n",
       "    <tr style=\"text-align: right;\">\n",
       "      <th></th>\n",
       "      <th>date</th>\n",
       "      <th>currency_code</th>\n",
       "      <th>name</th>\n",
       "      <th>local_price</th>\n",
       "      <th>dollar_ex</th>\n",
       "      <th>dollar_price</th>\n",
       "    </tr>\n",
       "  </thead>\n",
       "  <tbody>\n",
       "    <tr>\n",
       "      <th>1876</th>\n",
       "      <td>2022-07-01</td>\n",
       "      <td>ARS</td>\n",
       "      <td>Argentina</td>\n",
       "      <td>590.00</td>\n",
       "      <td>129</td>\n",
       "      <td>4.57</td>\n",
       "    </tr>\n",
       "    <tr>\n",
       "      <th>1877</th>\n",
       "      <td>2022-07-01</td>\n",
       "      <td>AUD</td>\n",
       "      <td>Australia</td>\n",
       "      <td>6.70</td>\n",
       "      <td>1</td>\n",
       "      <td>6.70</td>\n",
       "    </tr>\n",
       "    <tr>\n",
       "      <th>1878</th>\n",
       "      <td>2022-07-01</td>\n",
       "      <td>EUR</td>\n",
       "      <td>Austria</td>\n",
       "      <td>4.35</td>\n",
       "      <td>1</td>\n",
       "      <td>4.35</td>\n",
       "    </tr>\n",
       "    <tr>\n",
       "      <th>1879</th>\n",
       "      <td>2022-07-01</td>\n",
       "      <td>AZN</td>\n",
       "      <td>Azerbaijan</td>\n",
       "      <td>4.70</td>\n",
       "      <td>1</td>\n",
       "      <td>4.70</td>\n",
       "    </tr>\n",
       "    <tr>\n",
       "      <th>1880</th>\n",
       "      <td>2022-07-01</td>\n",
       "      <td>BHD</td>\n",
       "      <td>Bahrain</td>\n",
       "      <td>1.60</td>\n",
       "      <td>1</td>\n",
       "      <td>1.60</td>\n",
       "    </tr>\n",
       "  </tbody>\n",
       "</table>\n",
       "</div>"
      ],
      "text/plain": [
       "           date currency_code        name  local_price  dollar_ex  \\\n",
       "1876 2022-07-01           ARS   Argentina       590.00        129   \n",
       "1877 2022-07-01           AUD   Australia         6.70          1   \n",
       "1878 2022-07-01           EUR     Austria         4.35          1   \n",
       "1879 2022-07-01           AZN  Azerbaijan         4.70          1   \n",
       "1880 2022-07-01           BHD     Bahrain         1.60          1   \n",
       "\n",
       "      dollar_price  \n",
       "1876          4.57  \n",
       "1877          6.70  \n",
       "1878          4.35  \n",
       "1879          4.70  \n",
       "1880          1.60  "
      ]
     },
     "execution_count": 23,
     "metadata": {},
     "output_type": "execute_result"
    }
   ],
   "source": [
    "df_filtered_dia.head()"
   ]
  },
  {
   "cell_type": "code",
   "execution_count": 21,
   "metadata": {},
   "outputs": [],
   "source": [
    "# dados do mes de Julho\n",
    "df_filtered_mes = df[(df['date'].dt.year == 2022) & (df['date'].dt.month == 7)]"
   ]
  },
  {
   "cell_type": "code",
   "execution_count": 22,
   "metadata": {},
   "outputs": [
    {
     "data": {
      "text/html": [
       "<div>\n",
       "<style scoped>\n",
       "    .dataframe tbody tr th:only-of-type {\n",
       "        vertical-align: middle;\n",
       "    }\n",
       "\n",
       "    .dataframe tbody tr th {\n",
       "        vertical-align: top;\n",
       "    }\n",
       "\n",
       "    .dataframe thead th {\n",
       "        text-align: right;\n",
       "    }\n",
       "</style>\n",
       "<table border=\"1\" class=\"dataframe\">\n",
       "  <thead>\n",
       "    <tr style=\"text-align: right;\">\n",
       "      <th></th>\n",
       "      <th>date</th>\n",
       "      <th>currency_code</th>\n",
       "      <th>name</th>\n",
       "      <th>local_price</th>\n",
       "      <th>dollar_ex</th>\n",
       "      <th>dollar_price</th>\n",
       "    </tr>\n",
       "  </thead>\n",
       "  <tbody>\n",
       "    <tr>\n",
       "      <th>1876</th>\n",
       "      <td>2022-07-01</td>\n",
       "      <td>ARS</td>\n",
       "      <td>Argentina</td>\n",
       "      <td>590.00</td>\n",
       "      <td>129</td>\n",
       "      <td>4.57</td>\n",
       "    </tr>\n",
       "    <tr>\n",
       "      <th>1877</th>\n",
       "      <td>2022-07-01</td>\n",
       "      <td>AUD</td>\n",
       "      <td>Australia</td>\n",
       "      <td>6.70</td>\n",
       "      <td>1</td>\n",
       "      <td>6.70</td>\n",
       "    </tr>\n",
       "    <tr>\n",
       "      <th>1878</th>\n",
       "      <td>2022-07-01</td>\n",
       "      <td>EUR</td>\n",
       "      <td>Austria</td>\n",
       "      <td>4.35</td>\n",
       "      <td>1</td>\n",
       "      <td>4.35</td>\n",
       "    </tr>\n",
       "    <tr>\n",
       "      <th>1879</th>\n",
       "      <td>2022-07-01</td>\n",
       "      <td>AZN</td>\n",
       "      <td>Azerbaijan</td>\n",
       "      <td>4.70</td>\n",
       "      <td>1</td>\n",
       "      <td>4.70</td>\n",
       "    </tr>\n",
       "    <tr>\n",
       "      <th>1880</th>\n",
       "      <td>2022-07-01</td>\n",
       "      <td>BHD</td>\n",
       "      <td>Bahrain</td>\n",
       "      <td>1.60</td>\n",
       "      <td>1</td>\n",
       "      <td>1.60</td>\n",
       "    </tr>\n",
       "  </tbody>\n",
       "</table>\n",
       "</div>"
      ],
      "text/plain": [
       "           date currency_code        name  local_price  dollar_ex  \\\n",
       "1876 2022-07-01           ARS   Argentina       590.00        129   \n",
       "1877 2022-07-01           AUD   Australia         6.70          1   \n",
       "1878 2022-07-01           EUR     Austria         4.35          1   \n",
       "1879 2022-07-01           AZN  Azerbaijan         4.70          1   \n",
       "1880 2022-07-01           BHD     Bahrain         1.60          1   \n",
       "\n",
       "      dollar_price  \n",
       "1876          4.57  \n",
       "1877          6.70  \n",
       "1878          4.35  \n",
       "1879          4.70  \n",
       "1880          1.60  "
      ]
     },
     "execution_count": 22,
     "metadata": {},
     "output_type": "execute_result"
    }
   ],
   "source": [
    "df_filtered_mes.head()"
   ]
  },
  {
   "cell_type": "code",
   "execution_count": 25,
   "metadata": {},
   "outputs": [
    {
     "data": {
      "text/plain": [
       "date             70\n",
       "currency_code    70\n",
       "name             70\n",
       "local_price      70\n",
       "dollar_ex        70\n",
       "dollar_price     70\n",
       "dtype: int64"
      ]
     },
     "execution_count": 25,
     "metadata": {},
     "output_type": "execute_result"
    }
   ],
   "source": [
    "\n",
    "df_filtered_mes.count()"
   ]
  },
  {
   "cell_type": "code",
   "execution_count": 26,
   "metadata": {},
   "outputs": [
    {
     "data": {
      "text/plain": [
       "name\n",
       "Argentina               1\n",
       "Australia               1\n",
       "Austria                 1\n",
       "Azerbaijan              1\n",
       "Bahrain                 1\n",
       "                       ..\n",
       "United Arab Emirates    1\n",
       "United States           1\n",
       "Uruguay                 1\n",
       "Venezuela               1\n",
       "Vietnam                 1\n",
       "Name: date, Length: 70, dtype: int64"
      ]
     },
     "execution_count": 26,
     "metadata": {},
     "output_type": "execute_result"
    }
   ],
   "source": [
    "df_filtered_mes.groupby('name').count()['date']"
   ]
  },
  {
   "cell_type": "code",
   "execution_count": 27,
   "metadata": {},
   "outputs": [],
   "source": [
    "#Temos uma liha por país, assim, vamos calcular a tendencia central\n",
    "#Salvando os dados que separamos\n",
    "df_filtered_mes.to_csv('BigmacPriceJuly2022.csv', index = False)"
   ]
  },
  {
   "cell_type": "code",
   "execution_count": 30,
   "metadata": {},
   "outputs": [],
   "source": [
    "#Moda => é uma medida estatística de tendência central, que interessa sempre que estivermos em busca dos valores mais comuns de um dado.\n",
    "#É o valor dos dados que ocorre com a maior frequência, ou seja, o valor que mais se repete dentro de uma série de observações.\n",
    "df = pd.read_csv('BigmacPriceJuly2022.csv')\n"
   ]
  },
  {
   "cell_type": "code",
   "execution_count": 31,
   "metadata": {},
   "outputs": [
    {
     "data": {
      "text/plain": [
       "0    4.00\n",
       "1    4.58\n",
       "Name: dollar_price, dtype: float64"
      ]
     },
     "execution_count": 31,
     "metadata": {},
     "output_type": "execute_result"
    }
   ],
   "source": [
    "df['dollar_price'].mode()"
   ]
  },
  {
   "cell_type": "code",
   "execution_count": 32,
   "metadata": {},
   "outputs": [
    {
     "data": {
      "text/plain": [
       "dollar_price\n",
       "4.58    3\n",
       "4.00    3\n",
       "3.50    2\n",
       "5.67    2\n",
       "3.71    2\n",
       "       ..\n",
       "2.85    1\n",
       "2.30    1\n",
       "1.30    1\n",
       "6.70    1\n",
       "2.95    1\n",
       "Name: count, Length: 61, dtype: int64"
      ]
     },
     "execution_count": 32,
     "metadata": {},
     "output_type": "execute_result"
    }
   ],
   "source": [
    "#Quantas vezes esses valores ocorreram?\n",
    "df['dollar_price'].value_counts()"
   ]
  },
  {
   "cell_type": "code",
   "execution_count": 33,
   "metadata": {},
   "outputs": [
    {
     "data": {
      "text/plain": [
       "4.003571428571429"
      ]
     },
     "execution_count": 33,
     "metadata": {},
     "output_type": "execute_result"
    }
   ],
   "source": [
    "#Média simples => Soma todos os valores e divide pelo tamanho da amostra\n",
    "#amos calcular a média do preço do Big Mac em dólares americanos\n",
    "df['dollar_price'].mean()"
   ]
  },
  {
   "cell_type": "code",
   "execution_count": 34,
   "metadata": {},
   "outputs": [],
   "source": [
    "#precisamos tomar cuidados especiais com a média. Isso porque ela é facilmente influenciada por valores extremos na nossa amostra!\n",
    "def media(lista):\n",
    "    return sum(lista)/len(lista)"
   ]
  },
  {
   "cell_type": "code",
   "execution_count": 35,
   "metadata": {},
   "outputs": [],
   "source": [
    "#Vamos calcular a média de algumas listas de alturas de pessoas e ver como a média se comporta em cada caso.\n",
    "lista_alturas_1 = [1.67, 1.72, 1.70, 1.69, 1.74, 1.71]"
   ]
  },
  {
   "cell_type": "code",
   "execution_count": 36,
   "metadata": {},
   "outputs": [
    {
     "data": {
      "text/plain": [
       "1.705"
      ]
     },
     "execution_count": 36,
     "metadata": {},
     "output_type": "execute_result"
    }
   ],
   "source": [
    "media(lista_alturas_1)\n"
   ]
  },
  {
   "cell_type": "code",
   "execution_count": 37,
   "metadata": {},
   "outputs": [
    {
     "data": {
      "text/plain": [
       "1.7033333333333334"
      ]
     },
     "execution_count": 37,
     "metadata": {},
     "output_type": "execute_result"
    }
   ],
   "source": [
    "#lista tem alturas mais espaçadas uma das outras\n",
    "lista_alturas_2 = [1.60, 1.66, 1.72, 1.69, 1.78, 1.77]\n",
    "media(lista_alturas_2)"
   ]
  },
  {
   "cell_type": "code",
   "execution_count": 38,
   "metadata": {},
   "outputs": [
    {
     "data": {
      "text/plain": [
       "1.6266666666666667"
      ]
     },
     "execution_count": 38,
     "metadata": {},
     "output_type": "execute_result"
    }
   ],
   "source": [
    "#lista tem uma altura bem menor do que as outras\n",
    "lista_alturas_3 = [1.20, 1.72, 1.70, 1.69, 1.74, 1.71]\n",
    "media(lista_alturas_3)\n"
   ]
  },
  {
   "cell_type": "code",
   "execution_count": 39,
   "metadata": {},
   "outputs": [
    {
     "data": {
      "text/plain": [
       "1.7933333333333332"
      ]
     },
     "execution_count": 39,
     "metadata": {},
     "output_type": "execute_result"
    }
   ],
   "source": [
    "#lista tem uma altura bem maior do que as outras\n",
    "lista_alturas_4 = [1.67, 1.72, 1.70, 1.69, 1.74, 2.24]\n",
    "media(lista_alturas_4)"
   ]
  },
  {
   "cell_type": "code",
   "execution_count": null,
   "metadata": {},
   "outputs": [],
   "source": [
    "# Um dos problemas da média foi exposto acima, quando um valor distoa muito dos outros, ela puxa a média e isso pode gerar dados incorretos.\n"
   ]
  },
  {
   "cell_type": "code",
   "execution_count": 40,
   "metadata": {},
   "outputs": [
    {
     "data": {
      "text/plain": [
       "3.9050000000000002"
      ]
     },
     "execution_count": 40,
     "metadata": {},
     "output_type": "execute_result"
    }
   ],
   "source": [
    "# Mediana => é uma medida de tendência central muito interessante. Ela faz uma divisão exatamente no meio dos nossos dados. É o valor do meio do nosso conjunto de dados.\n",
    "#Para que a mediana seja calculada, primeiramente precisamos ordenar os dados para que então seja identificado o valor do meio. Por isso, a mediana é relativamente custosa de ser calculada, principalmente em cenários de big data.\n",
    "df['dollar_price'].median()"
   ]
  },
  {
   "cell_type": "code",
   "execution_count": 42,
   "metadata": {},
   "outputs": [
    {
     "data": {
      "text/plain": [
       "1.705"
      ]
     },
     "execution_count": 42,
     "metadata": {},
     "output_type": "execute_result"
    }
   ],
   "source": [
    "#Ao contrário da média, a mediana não é facilmente influenciada por valores extremos!\n",
    "#Vamos fazer paara as alturas da lista anterior\n",
    "import numpy as np\n",
    "np.median(lista_alturas_1)"
   ]
  },
  {
   "cell_type": "code",
   "execution_count": 43,
   "metadata": {},
   "outputs": [
    {
     "data": {
      "text/plain": [
       "1.7033333333333334"
      ]
     },
     "execution_count": 43,
     "metadata": {},
     "output_type": "execute_result"
    }
   ],
   "source": [
    "media(lista_alturas_2)"
   ]
  },
  {
   "cell_type": "code",
   "execution_count": 44,
   "metadata": {},
   "outputs": [
    {
     "data": {
      "text/plain": [
       "1.705"
      ]
     },
     "execution_count": 44,
     "metadata": {},
     "output_type": "execute_result"
    }
   ],
   "source": [
    "np.median(lista_alturas_2)"
   ]
  },
  {
   "cell_type": "code",
   "execution_count": 45,
   "metadata": {},
   "outputs": [
    {
     "data": {
      "text/plain": [
       "1.7933333333333332"
      ]
     },
     "execution_count": 45,
     "metadata": {},
     "output_type": "execute_result"
    }
   ],
   "source": [
    "\n",
    "media(lista_alturas_4)"
   ]
  },
  {
   "cell_type": "code",
   "execution_count": 46,
   "metadata": {},
   "outputs": [
    {
     "data": {
      "text/plain": [
       "1.71"
      ]
     },
     "execution_count": 46,
     "metadata": {},
     "output_type": "execute_result"
    }
   ],
   "source": [
    "np.median(lista_alturas_4)\n"
   ]
  },
  {
   "cell_type": "code",
   "execution_count": 47,
   "metadata": {},
   "outputs": [],
   "source": [
    "# Importe ver que a mediana quase não se altera!"
   ]
  }
 ],
 "metadata": {
  "kernelspec": {
   "display_name": "Python 3",
   "language": "python",
   "name": "python3"
  },
  "language_info": {
   "codemirror_mode": {
    "name": "ipython",
    "version": 3
   },
   "file_extension": ".py",
   "mimetype": "text/x-python",
   "name": "python",
   "nbconvert_exporter": "python",
   "pygments_lexer": "ipython3",
   "version": "3.12.4"
  }
 },
 "nbformat": 4,
 "nbformat_minor": 2
}
