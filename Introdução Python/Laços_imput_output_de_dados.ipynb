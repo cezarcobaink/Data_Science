{
 "cells": [
  {
   "cell_type": "code",
   "execution_count": 1,
   "metadata": {},
   "outputs": [
    {
     "name": "stdout",
     "output_type": "stream",
     "text": [
      "Capitais inseridas: ['londres', 'brasilia', 'berlin']\n",
      "Lista após inserção: ['londres', 'Berlim', 'brasilia', 'berlin']\n",
      "Berlim foi removida da lista.\n",
      "Lista final de capitais: ['londres', 'brasilia', 'berlin']\n"
     ]
    }
   ],
   "source": [
    "# Inicializa uma lista vazia para armazenar as capitais\n",
    "capitais = []\n",
    "\n",
    "# Define um contador\n",
    "contador = 1\n",
    "\n",
    "# Usa um laço while para solicitar ao usuário que insira nomes de capitais\n",
    "while contador <= 3:\n",
    "    capital = input(\"Digite o nome de uma capital: \")\n",
    "    capitais.append(capital)\n",
    "    contador += 1\n",
    "\n",
    "# Exibe a lista de capitais inseridas pelo usuário\n",
    "print(\"Capitais inseridas:\", capitais)\n",
    "\n",
    "# Insere uma nova capital na segunda posição da lista\n",
    "nova_capital = \"Berlim\"\n",
    "capitais.insert(1, nova_capital)\n",
    "print(\"Lista após inserção:\", capitais)\n",
    "\n",
    "# Remove uma capital específica da lista\n",
    "capital_remover = \"Berlim\"\n",
    "if capital_remover in capitais:\n",
    "    capitais.remove(capital_remover)\n",
    "    print(f\"{capital_remover} foi removida da lista.\")\n",
    "else:\n",
    "    print(f\"{capital_remover} não está na lista.\")\n",
    "\n",
    "# Exibe a lista final de capitais\n",
    "print(\"Lista final de capitais:\", capitais)\n"
   ]
  }
 ],
 "metadata": {
  "kernelspec": {
   "display_name": "Python 3",
   "language": "python",
   "name": "python3"
  },
  "language_info": {
   "codemirror_mode": {
    "name": "ipython",
    "version": 3
   },
   "file_extension": ".py",
   "mimetype": "text/x-python",
   "name": "python",
   "nbconvert_exporter": "python",
   "pygments_lexer": "ipython3",
   "version": "3.12.4"
  }
 },
 "nbformat": 4,
 "nbformat_minor": 2
}
