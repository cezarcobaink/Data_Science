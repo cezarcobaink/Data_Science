{
 "cells": [
  {
   "cell_type": "code",
   "execution_count": 2,
   "metadata": {},
   "outputs": [],
   "source": [
    "#Quantis e quartis nos ajudam a entender o que ocorre em certa porcentagem dos nossos dados. Eles recortam nossos dados na quantidade que pedimos, e então temos uma noção melhor de como as observações estão se comportando.\n",
    "#O percentil 10% (quantil 0.10), por exemplo, nos informa qual é o valor máximo dos dados se eu considerar somente os 10% primeiros termos dos meus dados, depois de ordená-los.\n",
    "#Os quartis são quantis específicos:\n",
    "#* 1˚ Quartil = Quantil 0.25\n",
    "#* 2˚ Quartil = Mediana = Quantil 0.50\n",
    "#* 3˚ Quartil = Quantil 0.75\n",
    "#usando os dados do preço do Big Mac de Julho de 2022.\n",
    "import pandas as pd\n",
    "import numpy as np"
   ]
  },
  {
   "cell_type": "code",
   "execution_count": 4,
   "metadata": {},
   "outputs": [
    {
     "data": {
      "text/html": [
       "<div>\n",
       "<style scoped>\n",
       "    .dataframe tbody tr th:only-of-type {\n",
       "        vertical-align: middle;\n",
       "    }\n",
       "\n",
       "    .dataframe tbody tr th {\n",
       "        vertical-align: top;\n",
       "    }\n",
       "\n",
       "    .dataframe thead th {\n",
       "        text-align: right;\n",
       "    }\n",
       "</style>\n",
       "<table border=\"1\" class=\"dataframe\">\n",
       "  <thead>\n",
       "    <tr style=\"text-align: right;\">\n",
       "      <th></th>\n",
       "      <th>date</th>\n",
       "      <th>currency_code</th>\n",
       "      <th>name</th>\n",
       "      <th>local_price</th>\n",
       "      <th>dollar_ex</th>\n",
       "      <th>dollar_price</th>\n",
       "    </tr>\n",
       "  </thead>\n",
       "  <tbody>\n",
       "    <tr>\n",
       "      <th>0</th>\n",
       "      <td>2022-07-01</td>\n",
       "      <td>ARS</td>\n",
       "      <td>Argentina</td>\n",
       "      <td>590.00</td>\n",
       "      <td>129</td>\n",
       "      <td>4.57</td>\n",
       "    </tr>\n",
       "    <tr>\n",
       "      <th>1</th>\n",
       "      <td>2022-07-01</td>\n",
       "      <td>AUD</td>\n",
       "      <td>Australia</td>\n",
       "      <td>6.70</td>\n",
       "      <td>1</td>\n",
       "      <td>6.70</td>\n",
       "    </tr>\n",
       "    <tr>\n",
       "      <th>2</th>\n",
       "      <td>2022-07-01</td>\n",
       "      <td>EUR</td>\n",
       "      <td>Austria</td>\n",
       "      <td>4.35</td>\n",
       "      <td>1</td>\n",
       "      <td>4.35</td>\n",
       "    </tr>\n",
       "    <tr>\n",
       "      <th>3</th>\n",
       "      <td>2022-07-01</td>\n",
       "      <td>AZN</td>\n",
       "      <td>Azerbaijan</td>\n",
       "      <td>4.70</td>\n",
       "      <td>1</td>\n",
       "      <td>4.70</td>\n",
       "    </tr>\n",
       "    <tr>\n",
       "      <th>4</th>\n",
       "      <td>2022-07-01</td>\n",
       "      <td>BHD</td>\n",
       "      <td>Bahrain</td>\n",
       "      <td>1.60</td>\n",
       "      <td>1</td>\n",
       "      <td>1.60</td>\n",
       "    </tr>\n",
       "  </tbody>\n",
       "</table>\n",
       "</div>"
      ],
      "text/plain": [
       "         date currency_code        name  local_price  dollar_ex  dollar_price\n",
       "0  2022-07-01           ARS   Argentina       590.00        129          4.57\n",
       "1  2022-07-01           AUD   Australia         6.70          1          6.70\n",
       "2  2022-07-01           EUR     Austria         4.35          1          4.35\n",
       "3  2022-07-01           AZN  Azerbaijan         4.70          1          4.70\n",
       "4  2022-07-01           BHD     Bahrain         1.60          1          1.60"
      ]
     },
     "execution_count": 4,
     "metadata": {},
     "output_type": "execute_result"
    }
   ],
   "source": [
    "df = pd.read_csv('BigmacPriceJuly2022.csv')\n",
    "df.head()\n"
   ]
  },
  {
   "cell_type": "code",
   "execution_count": 5,
   "metadata": {},
   "outputs": [
    {
     "data": {
      "text/plain": [
       "date              object\n",
       "currency_code     object\n",
       "name              object\n",
       "local_price      float64\n",
       "dollar_ex          int64\n",
       "dollar_price     float64\n",
       "dtype: object"
      ]
     },
     "execution_count": 5,
     "metadata": {},
     "output_type": "execute_result"
    }
   ],
   "source": [
    "df.dtypes\n"
   ]
  },
  {
   "cell_type": "code",
   "execution_count": 6,
   "metadata": {},
   "outputs": [],
   "source": [
    "df['date'] = pd.to_datetime(df['date'])"
   ]
  },
  {
   "cell_type": "code",
   "execution_count": 7,
   "metadata": {},
   "outputs": [
    {
     "data": {
      "text/plain": [
       "date             datetime64[ns]\n",
       "currency_code            object\n",
       "name                     object\n",
       "local_price             float64\n",
       "dollar_ex                 int64\n",
       "dollar_price            float64\n",
       "dtype: object"
      ]
     },
     "execution_count": 7,
     "metadata": {},
     "output_type": "execute_result"
    }
   ],
   "source": [
    "df.dtypes"
   ]
  },
  {
   "cell_type": "code",
   "execution_count": 10,
   "metadata": {},
   "outputs": [
    {
     "data": {
      "text/plain": [
       "2.413"
      ]
     },
     "execution_count": 10,
     "metadata": {},
     "output_type": "execute_result"
    }
   ],
   "source": [
    "#Aqui calculamos o quantil 0.1, ou o percentil 10%\n",
    "df['dollar_price'].quantile(0.1)\n"
   ]
  },
  {
   "cell_type": "code",
   "execution_count": 11,
   "metadata": {},
   "outputs": [],
   "source": [
    "#Podemos afirmar que 10% dos Big Mac's do mundo custam até 2.413 dólares\n"
   ]
  },
  {
   "cell_type": "code",
   "execution_count": 12,
   "metadata": {},
   "outputs": [
    {
     "data": {
      "text/plain": [
       "3.0"
      ]
     },
     "execution_count": 12,
     "metadata": {},
     "output_type": "execute_result"
    }
   ],
   "source": [
    "#calculando o quantil 0.25, ou o percentil 25%, ou o primeiro quartil.\n",
    "df['dollar_price'].quantile(0.25)"
   ]
  },
  {
   "cell_type": "code",
   "execution_count": 13,
   "metadata": {},
   "outputs": [],
   "source": [
    "#Podemos afirmar que um quarto dos Big Mac's do mundo custam até 3 dólares"
   ]
  },
  {
   "cell_type": "code",
   "execution_count": 14,
   "metadata": {},
   "outputs": [
    {
     "data": {
      "text/plain": [
       "3.9050000000000002"
      ]
     },
     "execution_count": 14,
     "metadata": {},
     "output_type": "execute_result"
    }
   ],
   "source": [
    "#calculando o quantil 0.5, ou o percentil 50%, ou a mediana\n",
    "\n",
    "df['dollar_price'].quantile(0.5)"
   ]
  },
  {
   "cell_type": "code",
   "execution_count": 15,
   "metadata": {},
   "outputs": [
    {
     "data": {
      "text/plain": [
       "3.9050000000000002"
      ]
     },
     "execution_count": 15,
     "metadata": {},
     "output_type": "execute_result"
    }
   ],
   "source": [
    "df['dollar_price'].median()"
   ]
  },
  {
   "cell_type": "code",
   "execution_count": 16,
   "metadata": {},
   "outputs": [],
   "source": [
    "#Podemos dizer que metade dos Big Mac's do mundo custam até 3.9 dólares"
   ]
  },
  {
   "cell_type": "code",
   "execution_count": 17,
   "metadata": {},
   "outputs": [],
   "source": [
    "#Com os quantis, conseguimos montar um retrato mais completo de como nossos dados se comportam.\n",
    "percentil_10 = df['dollar_price'].quantile(0.1)\n",
    "\n",
    "percentil_25 = df['dollar_price'].quantile(0.25)\n",
    "\n",
    "percentil_50 = df['dollar_price'].quantile(0.50)\n",
    "\n",
    "percentil_75 = df['dollar_price'].quantile(0.75)\n",
    "\n",
    "percentil_90 = df['dollar_price'].quantile(0.9)\n",
    "\n",
    "percentil_95 = df['dollar_price'].quantile(0.95)\n",
    "\n",
    "percentil_99 = df['dollar_price'].quantile(0.99)\n",
    "\n",
    "media = df['dollar_price'].mean()\n",
    "\n",
    "moda = df['dollar_price'].mode()[0]"
   ]
  },
  {
   "cell_type": "code",
   "execution_count": 18,
   "metadata": {},
   "outputs": [
    {
     "name": "stdout",
     "output_type": "stream",
     "text": [
      "Quantil 0.10: 2.413\n",
      "\n",
      "Primeiro Quartil: 3.0\n",
      "\n",
      "Mediana: 3.9050000000000002\n",
      "\n",
      "Média: 4.003571428571429\n",
      "\n",
      "Moda: 4.0\n",
      "\n",
      "Terceiro Quartil: 4.6875\n",
      "\n",
      "Quantil 0.90: 5.91\n",
      "\n",
      "Quantil 0.95: 6.609999999999999\n",
      "\n",
      "Quantil 0.99: 6.9551\n",
      "\n"
     ]
    }
   ],
   "source": [
    "print(\"Quantil 0.10: {}\\n\".format(percentil_10))\n",
    "\n",
    "print(\"Primeiro Quartil: {}\\n\".format(percentil_25))\n",
    "\n",
    "print(\"Mediana: {}\\n\".format(percentil_50))\n",
    "print(\"Média: {}\\n\".format(media))\n",
    "print(\"Moda: {}\\n\".format(moda))\n",
    "\n",
    "print(\"Terceiro Quartil: {}\\n\".format(percentil_75))\n",
    "\n",
    "print(\"Quantil 0.90: {}\\n\".format(percentil_90))\n",
    "\n",
    "print(\"Quantil 0.95: {}\\n\".format(percentil_95))\n",
    "\n",
    "print(\"Quantil 0.99: {}\\n\".format(percentil_99))"
   ]
  },
  {
   "cell_type": "code",
   "execution_count": 19,
   "metadata": {},
   "outputs": [],
   "source": [
    "#Os quantis são de muita importância quando queremos entender melhor a própria dispersão dos dados que estamos analisando. Alguns exemplos dentre as várias aplicações para eles:\n",
    "#Identificar comportamentos muito diferentes do restante dos dados (Outliers)\n",
    "#Entender em qual corte a maioria dos dados se encontram, ou até mesmo uma parte específica deles\n",
    "#Ajudar na tomada de decisão em situações de Trade-Off. Ex: Acurácia de Localização\n",
    "#Boxplot"
   ]
  }
 ],
 "metadata": {
  "kernelspec": {
   "display_name": "Python 3",
   "language": "python",
   "name": "python3"
  },
  "language_info": {
   "codemirror_mode": {
    "name": "ipython",
    "version": 3
   },
   "file_extension": ".py",
   "mimetype": "text/x-python",
   "name": "python",
   "nbconvert_exporter": "python",
   "pygments_lexer": "ipython3",
   "version": "3.12.4"
  }
 },
 "nbformat": 4,
 "nbformat_minor": 2
}
