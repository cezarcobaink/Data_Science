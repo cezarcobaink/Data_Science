{
 "cells": [
  {
   "cell_type": "code",
   "execution_count": 3,
   "metadata": {},
   "outputs": [
    {
     "name": "stdout",
     "output_type": "stream",
     "text": [
      "Achou o azul\n"
     ]
    }
   ],
   "source": [
    "a = \"azul\"\n",
    "match a:\n",
    "    case \"verde\":\n",
    "        print(\"Não é azul\")\n",
    "    case \"amarelo\":\n",
    "        print(\"É amarelo e Não é azul\")\n",
    "    case \"azul\":\n",
    "        print(\"Achou o azul\")\n",
    "      \n"
   ]
  },
  {
   "cell_type": "code",
   "execution_count": 5,
   "metadata": {},
   "outputs": [
    {
     "name": "stdout",
     "output_type": "stream",
     "text": [
      "O número é 2\n"
     ]
    }
   ],
   "source": [
    "number = 2\n",
    "\n",
    "match number:\n",
    "    case 1:\n",
    "        print(\"O número é 1\")\n",
    "    case 2:\n",
    "        print(\"O número é 2\")\n",
    "    case 3:\n",
    "        print(\"O número é 3\")\n",
    "    case _:\n",
    "        print(\"O número não é 1, 2 ou 3\")\n"
   ]
  },
  {
   "cell_type": "code",
   "execution_count": 7,
   "metadata": {},
   "outputs": [
    {
     "name": "stdout",
     "output_type": "stream",
     "text": [
      "Escolha duas cores primárias para misturar.\n",
      "Opções: vermelho, azul, amarelo\n",
      "A mistura de vermelho e azul resulta em roxo.\n"
     ]
    }
   ],
   "source": [
    "def misturar_cores(cor1, cor2):\n",
    "    match (cor1, cor2):\n",
    "        case (\"vermelho\", \"azul\") | (\"azul\", \"vermelho\"):\n",
    "            return \"roxo\"\n",
    "        case (\"vermelho\", \"amarelo\") | (\"amarelo\", \"vermelho\"):\n",
    "            return \"laranja\"\n",
    "        case (\"azul\", \"amarelo\") | (\"amarelo\", \"azul\"):\n",
    "            return \"verde\"\n",
    "        case _:\n",
    "            return \"Mistura inválida\"\n",
    "\n",
    "def obter_cor_do_usuario():\n",
    "    print(\"Escolha duas cores primárias para misturar.\")\n",
    "    print(\"Opções: vermelho, azul, amarelo\")\n",
    "    \n",
    "    cor1 = input(\"Digite a primeira cor: \").strip().lower()\n",
    "    cor2 = input(\"Digite a segunda cor: \").strip().lower()\n",
    "    \n",
    "    resultado = misturar_cores(cor1, cor2)\n",
    "    print(f\"A mistura de {cor1} e {cor2} resulta em {resultado}.\")\n",
    "\n",
    "# Chamar a função para iniciar o processo\n",
    "obter_cor_do_usuario()\n"
   ]
  }
 ],
 "metadata": {
  "kernelspec": {
   "display_name": "Python 3",
   "language": "python",
   "name": "python3"
  },
  "language_info": {
   "codemirror_mode": {
    "name": "ipython",
    "version": 3
   },
   "file_extension": ".py",
   "mimetype": "text/x-python",
   "name": "python",
   "nbconvert_exporter": "python",
   "pygments_lexer": "ipython3",
   "version": "3.12.4"
  }
 },
 "nbformat": 4,
 "nbformat_minor": 2
}
