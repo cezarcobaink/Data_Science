{
 "cells": [
  {
   "cell_type": "code",
   "execution_count": 7,
   "metadata": {},
   "outputs": [],
   "source": [
    "#if condição1:\n",
    "    # Código a ser executado se condição1 for verdadeira\n",
    "#elif condição2:\n",
    "    # Código a ser executado se condição2 for verdadeira\n",
    "#elif condição3:\n",
    "    # Código a ser executado se condição3 for verdadeira\n",
    "#else:\n",
    "    # Código a ser executado se nenhuma das condições anteriores for verdadeira\n"
   ]
  },
  {
   "cell_type": "code",
   "execution_count": 1,
   "metadata": {},
   "outputs": [
    {
     "name": "stdout",
     "output_type": "stream",
     "text": [
      "10\n"
     ]
    }
   ],
   "source": [
    "# Variável x recebe 10 se y for maior que 5, caso contrário, recebe 0\n",
    "y = 6\n",
    "x = 10 if y > 5 else 0\n",
    "print(x)  # Saída: 10"
   ]
  },
  {
   "cell_type": "code",
   "execution_count": 2,
   "metadata": {},
   "outputs": [
    {
     "name": "stdout",
     "output_type": "stream",
     "text": [
      "Aprovado\n"
     ]
    }
   ],
   "source": [
    "# Variável status recebe 'Aprovado' se nota for maior ou igual a 60, caso contrário, recebe 'Reprovado'\n",
    "nota = 75\n",
    "status = \"Aprovado\" if nota >= 60 else \"Reprovado\"\n",
    "print(status)  # Saída: Aprovado\n"
   ]
  },
  {
   "cell_type": "code",
   "execution_count": 3,
   "metadata": {},
   "outputs": [
    {
     "name": "stdout",
     "output_type": "stream",
     "text": [
      "20\n"
     ]
    }
   ],
   "source": [
    "#Embutido em uma função\n",
    "def maior_numero(a, b):\n",
    "    return a if a > b else b\n",
    "\n",
    "print(maior_numero(10, 20))  # Saída: 20\n"
   ]
  },
  {
   "cell_type": "code",
   "execution_count": 4,
   "metadata": {},
   "outputs": [
    {
     "name": "stdout",
     "output_type": "stream",
     "text": [
      "Negativo\n"
     ]
    }
   ],
   "source": [
    "# Variável n contém o número a ser verificado\n",
    "n = -5\n",
    "\n",
    "# Usando operadores ternários aninhados para simular if-elif-else\n",
    "resultado = \"Positivo\" if n > 0 else \"Zero\" if n == 0 else \"Negativo\"\n",
    "\n",
    "print(resultado)  # Saída: Negativo\n"
   ]
  },
  {
   "cell_type": "code",
   "execution_count": 5,
   "metadata": {},
   "outputs": [
    {
     "name": "stdout",
     "output_type": "stream",
     "text": [
      "Adulto\n"
     ]
    }
   ],
   "source": [
    "idade = 25\n",
    "\n",
    "categoria = \"Criança\" if idade < 13 else \"Adolescente\" if idade < 18 else \"Adulto\" if idade < 60 else \"Idoso\"\n",
    "\n",
    "print(categoria)  # Saída: Adulto\n"
   ]
  },
  {
   "cell_type": "code",
   "execution_count": 8,
   "metadata": {},
   "outputs": [
    {
     "name": "stdout",
     "output_type": "stream",
     "text": [
      "Adulto\n"
     ]
    }
   ],
   "source": [
    "idade = 25\n",
    "\n",
    "if idade < 13:\n",
    "    print(\"Criança\")\n",
    "elif idade < 18:\n",
    "    print(\"Adolescente\")\n",
    "elif idade < 60:\n",
    "    print(\"Adulto\")\n",
    "else:\n",
    "    print(\"Idoso\")\n"
   ]
  }
 ],
 "metadata": {
  "kernelspec": {
   "display_name": "Python 3",
   "language": "python",
   "name": "python3"
  },
  "language_info": {
   "codemirror_mode": {
    "name": "ipython",
    "version": 3
   },
   "file_extension": ".py",
   "mimetype": "text/x-python",
   "name": "python",
   "nbconvert_exporter": "python",
   "pygments_lexer": "ipython3",
   "version": "3.12.4"
  }
 },
 "nbformat": 4,
 "nbformat_minor": 2
}
